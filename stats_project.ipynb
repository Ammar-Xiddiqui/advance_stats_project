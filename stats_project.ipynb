{
 "cells": [
  {
   "cell_type": "code",
   "execution_count": 2,
   "id": "e2ed438f-5c95-45cd-8bfa-165731ced869",
   "metadata": {},
   "outputs": [],
   "source": [
    "import pandas as pd\n",
    "\n",
    "data = pd.read_csv('dataset.csv')"
   ]
  },
  {
   "cell_type": "code",
   "execution_count": 3,
   "id": "9a439890-edcd-495b-a282-f094d2013f7e",
   "metadata": {},
   "outputs": [
    {
     "data": {
      "text/plain": [
       "Which activity do you dedicate most of your screen time to?  \n",
       "Entertainment (gaming, streaming, social media, etc.)    112\n",
       "Academic/Work-related                                     88\n",
       "Name: count, dtype: int64"
      ]
     },
     "execution_count": 3,
     "metadata": {},
     "output_type": "execute_result"
    }
   ],
   "source": [
    "data['Which activity do you dedicate most of your screen time to?  '].value_counts()"
   ]
  },
  {
   "cell_type": "code",
   "execution_count": 4,
   "id": "5f45e1e2-ce0d-4c28-9c0f-23f24206f130",
   "metadata": {},
   "outputs": [
    {
     "data": {
      "text/plain": [
       "Index(['Timestamp', 'Which age group do you belong to? ',\n",
       "       '  What is your gender?  ', 'What is your level of education? ',\n",
       "       'What is your primary occupation ?',\n",
       "       'How many hours in a day, on average, do you spend in front of screens?',\n",
       "       'Which device do you use most frequently?',\n",
       "       'Which activity do you dedicate most of your screen time to?  ',\n",
       "       'Which app category do you use the most during your screen time?',\n",
       "       'During which part of the day do you spend most of your screen time?',\n",
       "       'What kind of environment helps you stay productive during screen use?',\n",
       "       'After spending a long time in front of screens to complete a certain task, how do you generally feel about your productivity?',\n",
       "       'How long can you generally stay focused on a single screen-based task without distractions?',\n",
       "       'How do you try to stay focused while working on a complex task (e.g, coding)?',\n",
       "       'While working on a screen-based task, how do you handle frequent notifications which distract you?',\n",
       "       'Does your attention span vary based on the type of task?',\n",
       "       'Do you use tools/apps to monitor or manage your screen time?',\n",
       "       'Did you struggle with your attention while filling out this survey? :)'],\n",
       "      dtype='object')"
      ]
     },
     "execution_count": 4,
     "metadata": {},
     "output_type": "execute_result"
    }
   ],
   "source": [
    "data.columns"
   ]
  },
  {
   "cell_type": "code",
   "execution_count": 5,
   "id": "9701dd1c-75cf-4c05-bcff-9cc2deaa4735",
   "metadata": {},
   "outputs": [
    {
     "data": {
      "text/html": [
       "<div>\n",
       "<style scoped>\n",
       "    .dataframe tbody tr th:only-of-type {\n",
       "        vertical-align: middle;\n",
       "    }\n",
       "\n",
       "    .dataframe tbody tr th {\n",
       "        vertical-align: top;\n",
       "    }\n",
       "\n",
       "    .dataframe thead th {\n",
       "        text-align: right;\n",
       "    }\n",
       "</style>\n",
       "<table border=\"1\" class=\"dataframe\">\n",
       "  <thead>\n",
       "    <tr style=\"text-align: right;\">\n",
       "      <th>How many hours in a day, on average, do you spend in front of screens?</th>\n",
       "      <th>2–4</th>\n",
       "      <th>4–6</th>\n",
       "      <th>6–8</th>\n",
       "      <th>8-10</th>\n",
       "      <th>Less than 2</th>\n",
       "      <th>More than 10</th>\n",
       "    </tr>\n",
       "    <tr>\n",
       "      <th>What is your primary occupation ?</th>\n",
       "      <th></th>\n",
       "      <th></th>\n",
       "      <th></th>\n",
       "      <th></th>\n",
       "      <th></th>\n",
       "      <th></th>\n",
       "    </tr>\n",
       "  </thead>\n",
       "  <tbody>\n",
       "    <tr>\n",
       "      <th>Professional</th>\n",
       "      <td>5</td>\n",
       "      <td>13</td>\n",
       "      <td>13</td>\n",
       "      <td>27</td>\n",
       "      <td>0</td>\n",
       "      <td>18</td>\n",
       "    </tr>\n",
       "    <tr>\n",
       "      <th>Student</th>\n",
       "      <td>17</td>\n",
       "      <td>38</td>\n",
       "      <td>38</td>\n",
       "      <td>17</td>\n",
       "      <td>1</td>\n",
       "      <td>13</td>\n",
       "    </tr>\n",
       "  </tbody>\n",
       "</table>\n",
       "</div>"
      ],
      "text/plain": [
       "How many hours in a day, on average, do you spend in front of screens?  2–4  \\\n",
       "What is your primary occupation ?                                             \n",
       "Professional                                                              5   \n",
       "Student                                                                  17   \n",
       "\n",
       "How many hours in a day, on average, do you spend in front of screens?  4–6  \\\n",
       "What is your primary occupation ?                                             \n",
       "Professional                                                             13   \n",
       "Student                                                                  38   \n",
       "\n",
       "How many hours in a day, on average, do you spend in front of screens?  6–8  \\\n",
       "What is your primary occupation ?                                             \n",
       "Professional                                                             13   \n",
       "Student                                                                  38   \n",
       "\n",
       "How many hours in a day, on average, do you spend in front of screens?  8-10  \\\n",
       "What is your primary occupation ?                                              \n",
       "Professional                                                              27   \n",
       "Student                                                                   17   \n",
       "\n",
       "How many hours in a day, on average, do you spend in front of screens?  Less than 2  \\\n",
       "What is your primary occupation ?                                                     \n",
       "Professional                                                                      0   \n",
       "Student                                                                           1   \n",
       "\n",
       "How many hours in a day, on average, do you spend in front of screens?  More than 10  \n",
       "What is your primary occupation ?                                                     \n",
       "Professional                                                                      18  \n",
       "Student                                                                           13  "
      ]
     },
     "execution_count": 5,
     "metadata": {},
     "output_type": "execute_result"
    }
   ],
   "source": [
    "pd.crosstab(data['What is your primary occupation ?'], data['How many hours in a day, on average, do you spend in front of screens?'])"
   ]
  },
  {
   "cell_type": "code",
   "execution_count": 6,
   "id": "1a4a25e1-1827-4f7b-aea6-5e7a61708008",
   "metadata": {},
   "outputs": [
    {
     "data": {
      "text/plain": [
       "What is your level of education? \n",
       "Undergraduate           106\n",
       "Graduate                 47\n",
       "High school or below     47\n",
       "Name: count, dtype: int64"
      ]
     },
     "execution_count": 6,
     "metadata": {},
     "output_type": "execute_result"
    }
   ],
   "source": [
    "data['What is your level of education? '].value_counts()"
   ]
  },
  {
   "cell_type": "code",
   "execution_count": 7,
   "id": "439092e3-33f4-4eca-8549-b6782cb18a1e",
   "metadata": {},
   "outputs": [
    {
     "data": {
      "text/plain": [
       "What is your primary occupation ?\n",
       "Student         124\n",
       "Professional     76\n",
       "Name: count, dtype: int64"
      ]
     },
     "execution_count": 7,
     "metadata": {},
     "output_type": "execute_result"
    }
   ],
   "source": [
    "data['What is your primary occupation ?'].value_counts()"
   ]
  },
  {
   "cell_type": "code",
   "execution_count": 8,
   "id": "93912f76-8f6d-4e39-8302-25ea41c8b120",
   "metadata": {},
   "outputs": [
    {
     "data": {
      "text/plain": [
       "What is your primary occupation ?\n",
       "Student         124\n",
       "Professional     76\n",
       "Name: count, dtype: int64"
      ]
     },
     "execution_count": 8,
     "metadata": {},
     "output_type": "execute_result"
    }
   ],
   "source": [
    "data['What is your primary occupation ?'].value_counts()"
   ]
  },
  {
   "cell_type": "code",
   "execution_count": 9,
   "id": "ff9de684-6f53-43ca-9f86-38b026049abe",
   "metadata": {},
   "outputs": [
    {
     "name": "stdout",
     "output_type": "stream",
     "text": [
      "Chi-Square Statistic: 25.457\n",
      "P-value: 0.184\n",
      "Degrees of Freedom: 20\n",
      "Expected Frequencies:\n",
      " [[1.386e+01 3.213e+01 3.213e+01 2.772e+01 6.300e-01 1.953e+01]\n",
      " [2.640e+00 6.120e+00 6.120e+00 5.280e+00 1.200e-01 3.720e+00]\n",
      " [1.100e+00 2.550e+00 2.550e+00 2.200e+00 5.000e-02 1.550e+00]\n",
      " [6.600e-01 1.530e+00 1.530e+00 1.320e+00 3.000e-02 9.300e-01]\n",
      " [3.740e+00 8.670e+00 8.670e+00 7.480e+00 1.700e-01 5.270e+00]]\n",
      "Fail to reject the null hypothesis: No significant association between age group and screen time category.\n",
      "Proportional distribution of screen time across age groups:\n",
      " Screen Time Category                     2–4       4–6       6–8      8-10  \\\n",
      "Which age group do you belong to?                                            \n",
      "18–24                               0.119048  0.230159  0.269841  0.206349   \n",
      "25–34                               0.041667  0.166667  0.291667  0.250000   \n",
      "35–44                               0.100000  0.200000  0.300000  0.300000   \n",
      "45 and above                        0.000000  0.333333  0.000000  0.666667   \n",
      "Below 18                            0.147059  0.411765  0.205882  0.147059   \n",
      "\n",
      "Screen Time Category                Less than 2  More than 10  \n",
      "Which age group do you belong to?                              \n",
      "18–24                                  0.000000      0.174603  \n",
      "25–34                                  0.000000      0.250000  \n",
      "35–44                                  0.000000      0.100000  \n",
      "45 and above                           0.000000      0.000000  \n",
      "Below 18                               0.029412      0.058824  \n"
     ]
    }
   ],
   "source": [
    "import scipy.stats as stats\n",
    "import numpy as np\n",
    "\n",
    "# Preprocessing gender and screen time data\n",
    "#data['What is your gender?'] = data[' What is your gender? '].str.strip()\n",
    "data['Hours on screens'] = data['How many hours in a day, on average, do you spend in front of screens?'].str.strip()\n",
    "\n",
    "# Define criteria for \"more than 8 hours\"\n",
    "def classify_screen_time(hours):\n",
    "    if '8-10' in hours or 'More than 10' in hours:\n",
    "        return 'More than 8 hours'\n",
    "    else:\n",
    "        return '8 hours or less'\n",
    "\n",
    "data['Screen Time Category'] = data['Hours on screens']#.apply(classify_screen_time)\n",
    "\n",
    "# Chi-Square test between age group and screen time\n",
    "age_screen_time_table = pd.crosstab(data['Which age group do you belong to? '], data['Screen Time Category'])\n",
    "\n",
    "# Perform Chi-Square Test\n",
    "chi2, p_value, dof, expected = stats.chi2_contingency(age_screen_time_table)\n",
    "\n",
    "# Print results\n",
    "print(\"Chi-Square Statistic:\", round(chi2, 3))\n",
    "print(\"P-value:\", round(p_value, 3))\n",
    "print(\"Degrees of Freedom:\", dof)\n",
    "print(\"Expected Frequencies:\\n\", expected)\n",
    "\n",
    "if p_value < 0.05:\n",
    "    print(\"Reject the null hypothesis: There is a significant association between age group and screen time category.\")\n",
    "else:\n",
    "    print(\"Fail to reject the null hypothesis: No significant association between age group and screen time category.\")\n",
    "\n",
    "# Proportions for additional insights\n",
    "age_group_proportions = age_screen_time_table.div(age_screen_time_table.sum(axis=1), axis=0)\n",
    "print(\"Proportional distribution of screen time across age groups:\\n\", age_group_proportions)\n"
   ]
  },
  {
   "cell_type": "code",
   "execution_count": 10,
   "id": "25de378d-c0ae-4968-93c8-c7f20af5a570",
   "metadata": {},
   "outputs": [
    {
     "name": "stdout",
     "output_type": "stream",
     "text": [
      "Screen Time Category      2–4  4–6  6–8  8-10  Less than 2  More than 10\n",
      "What is your occupation?                                                \n",
      "Professional                5   13   13    27            0            18\n",
      "Student                    17   38   38    17            1            13\n",
      "Chi-Square Statistic: 25.058\n",
      "P-value: 0.00013580056428516966\n",
      "Degrees of Freedom: 5\n",
      "Expected Frequencies:\n",
      " [[ 8.36 19.38 19.38 16.72  0.38 11.78]\n",
      " [13.64 31.62 31.62 27.28  0.62 19.22]]\n",
      "Reject the null hypothesis: There is a significant association between occupation and screen time category.\n",
      "Proportional distribution of screen time across occupations:\n",
      " Screen Time Category           2–4       4–6       6–8      8-10  Less than 2  \\\n",
      "What is your occupation?                                                        \n",
      "Professional              0.065789  0.171053  0.171053  0.355263     0.000000   \n",
      "Student                   0.137097  0.306452  0.306452  0.137097     0.008065   \n",
      "\n",
      "Screen Time Category      More than 10  \n",
      "What is your occupation?                \n",
      "Professional                  0.236842  \n",
      "Student                       0.104839  \n"
     ]
    }
   ],
   "source": [
    "import scipy.stats as stats\n",
    "import numpy as np\n",
    "\n",
    "# Preprocessing gender and screen time data\n",
    "\n",
    "data['Hours on screens'] = data['How many hours in a day, on average, do you spend in front of screens?'].str.strip()\n",
    "data['What is your occupation?'] = data['What is your primary occupation ?'].str.strip()\n",
    "\n",
    "# Define criteria for \"more than 8 hours\"\n",
    "def classify_screen_time(hours):\n",
    "    if '8-10' in hours or 'More than 10' in hours:\n",
    "        return 'More than 8 hours'\n",
    "    else:\n",
    "        return '8 hours or less'\n",
    "\n",
    "data['Screen Time Category'] = data['Hours on screens']#.apply(classify_screen_time)\n",
    "\n",
    "# Chi-Square test between occupation (students vs. professionals) and screen time\n",
    "occupation_filtered = data[data['What is your occupation?'].isin(['Student', 'Professional'])]\n",
    "occupation_screen_time_table = pd.crosstab(occupation_filtered['What is your occupation?'], occupation_filtered['Screen Time Category'])\n",
    "print(occupation_screen_time_table)\n",
    "# Perform Chi-Square Test\n",
    "chi2, p_value, dof, expected = stats.chi2_contingency(occupation_screen_time_table)\n",
    "\n",
    "# Print results\n",
    "print(\"Chi-Square Statistic:\", round(chi2, 3))\n",
    "print(\"P-value:\", p_value)\n",
    "print(\"Degrees of Freedom:\", dof)\n",
    "print(\"Expected Frequencies:\\n\", expected)\n",
    "\n",
    "if p_value < 0.05:\n",
    "    print(\"Reject the null hypothesis: There is a significant association between occupation and screen time category.\")\n",
    "else:\n",
    "    print(\"Fail to reject the null hypothesis: No significant association between occupation and screen time category.\")\n",
    "\n",
    "# Proportions for additional insights\n",
    "occupation_proportions = occupation_screen_time_table.div(occupation_screen_time_table.sum(axis=1), axis=0)\n",
    "print(\"Proportional distribution of screen time across occupations:\\n\", occupation_proportions)\n"
   ]
  },
  {
   "cell_type": "code",
   "execution_count": 11,
   "id": "5de0e204-5c4c-48fa-9547-0d4a82bb0234",
   "metadata": {},
   "outputs": [
    {
     "name": "stdout",
     "output_type": "stream",
     "text": [
      "Screen Time Category      10 hours or less  More than 10 hours\n",
      "What is your occupation?                                      \n",
      "Professional                            58                  18\n",
      "Student                                111                  13\n",
      "Chi-Square Statistic: 5.301\n",
      "P-value: 0.021\n",
      "Degrees of Freedom: 1\n",
      "Expected Frequencies:\n",
      " [[ 64.22  11.78]\n",
      " [104.78  19.22]]\n",
      "Reject the null hypothesis: There is a significant association between occupation and screen time category.\n",
      "Proportional distribution of screen time across occupations:\n",
      " Screen Time Category      10 hours or less  More than 10 hours\n",
      "What is your occupation?                                      \n",
      "Professional                      0.763158            0.236842\n",
      "Student                           0.895161            0.104839\n"
     ]
    }
   ],
   "source": [
    "import scipy.stats as stats\n",
    "import numpy as np\n",
    "\n",
    "# Preprocessing gender and screen time data\n",
    "#data['What is your gender?'] = data[' What is your gender?'].str.strip()\n",
    "data['Hours on screens'] = data['How many hours in a day, on average, do you spend in front of screens?'].str.strip()\n",
    "data['What is your occupation?'] = data['What is your occupation?'].str.strip()\n",
    "\n",
    "# Define criteria for \"more than 10 hours\"\n",
    "def classify_screen_time(hours):\n",
    "    if 'More than 10' in hours:\n",
    "        return 'More than 10 hours'\n",
    "    else:\n",
    "        return '10 hours or less'\n",
    "\n",
    "data['Screen Time Category'] = data['Hours on screens'].apply(classify_screen_time)\n",
    "\n",
    "# Chi-Square test between occupation (students vs. professionals) and screen time\n",
    "occupation_filtered = data[data['What is your occupation?'].isin(['Student', 'Professional'])]\n",
    "occupation_screen_time_table = pd.crosstab(occupation_filtered['What is your occupation?'], occupation_filtered['Screen Time Category'])\n",
    "print(occupation_screen_time_table)\n",
    "# Perform Chi-Square Test\n",
    "chi2, p_value, dof, expected = stats.chi2_contingency(occupation_screen_time_table)\n",
    "\n",
    "# Print results\n",
    "print(\"Chi-Square Statistic:\", round(chi2, 3))\n",
    "print(\"P-value:\", round(p_value, 3))\n",
    "print(\"Degrees of Freedom:\", dof)\n",
    "print(\"Expected Frequencies:\\n\", expected)\n",
    "\n",
    "if p_value < 0.05:\n",
    "    print(\"Reject the null hypothesis: There is a significant association between occupation and screen time category.\")\n",
    "else:\n",
    "    print(\"Fail to reject the null hypothesis: No significant association between occupation and screen time category.\")\n",
    "\n",
    "# Proportions for additional insights\n",
    "occupation_proportions = occupation_screen_time_table.div(occupation_screen_time_table.sum(axis=1), axis=0)\n",
    "print(\"Proportional distribution of screen time across occupations:\\n\", occupation_proportions)"
   ]
  },
  {
   "cell_type": "code",
   "execution_count": 12,
   "id": "79b84740-2b9a-424b-8cf0-90cf3707886b",
   "metadata": {},
   "outputs": [
    {
     "name": "stdout",
     "output_type": "stream",
     "text": [
      "Primary screen activity  Academic/Work-related  \\\n",
      "Age group                                        \n",
      "18–24                                       52   \n",
      "25–34                                       18   \n",
      "35–44                                        8   \n",
      "45 and above                                 6   \n",
      "Below 18                                     4   \n",
      "\n",
      "Primary screen activity  Entertainment (gaming, streaming, social media, etc.)  \n",
      "Age group                                                                       \n",
      "18–24                                                                   74      \n",
      "25–34                                                                    6      \n",
      "35–44                                                                    2      \n",
      "45 and above                                                             0      \n",
      "Below 18                                                                30      \n",
      "Chi-Square Statistic: 36.976\n",
      "P-value: 1.8218589786094068e-07\n",
      "Degrees of Freedom: 4\n",
      "Expected Frequencies:\n",
      " [[55.44 70.56]\n",
      " [10.56 13.44]\n",
      " [ 4.4   5.6 ]\n",
      " [ 2.64  3.36]\n",
      " [14.96 19.04]]\n",
      "Reject the null hypothesis: The distribution of primary screen activities is dependent on age group.\n"
     ]
    }
   ],
   "source": [
    "#import pandas as pd\n",
    "import scipy.stats as stats\n",
    "\n",
    "# Preprocessing data: Strip unnecessary spaces\n",
    "data['Primary screen activity'] = data['Which activity do you dedicate most of your screen time to?  '].str.strip()\n",
    "data['Age group'] = data['Which age group do you belong to? '].str.strip()\n",
    "\n",
    "# Create contingency table\n",
    "age_activity_table = pd.crosstab(data['Age group'], data['Primary screen activity'])\n",
    "age_activity_table.to_csv('cont')\n",
    "print(age_activity_table)\n",
    "# Perform Chi-Square Test\n",
    "chi2, p_value, dof, expected = stats.chi2_contingency(age_activity_table)\n",
    "\n",
    "# Print results\n",
    "print(\"Chi-Square Statistic:\", round(chi2, 3))\n",
    "print(\"P-value:\", p_value)\n",
    "print(\"Degrees of Freedom:\", dof)\n",
    "print(\"Expected Frequencies:\\n\", expected)\n",
    "\n",
    "if p_value < 0.05:\n",
    "    print(\"Reject the null hypothesis: The distribution of primary screen activities is dependent on age group.\")\n",
    "else:\n",
    "    print(\"Fail to reject the null hypothesis: The distribution of primary screen activities is independent of age group.\")\n"
   ]
  },
  {
   "cell_type": "code",
   "execution_count": 13,
   "id": "617c5186-84ff-4de0-9d26-353315e299cb",
   "metadata": {},
   "outputs": [
    {
     "name": "stdout",
     "output_type": "stream",
     "text": [
      "Chi-Square Statistic: 12.977\n",
      "P-value: 0.113\n",
      "Degrees of Freedom: 8\n",
      "Expected Frequencies:\n",
      " [[ 2.2    4.28   1.52 ]\n",
      " [ 5.775 11.235  3.99 ]\n",
      " [13.2   25.68   9.12 ]\n",
      " [27.5   53.5   19.   ]\n",
      " [ 6.325 12.305  4.37 ]]\n",
      "Fail to reject the null hypothesis: No significant association between app category and productivity level.\n"
     ]
    }
   ],
   "source": [
    "import scipy.stats as stats\n",
    "import numpy as np\n",
    "import pandas as pd\n",
    "\n",
    "data['App Category'] = data['Which app category do you use the most during your screen time?'].str.strip()\n",
    "data['Productivity Level'] = data['After spending a long time in front of screens to complete a certain task, how do you generally feel about your productivity?'].str.strip()\n",
    "\n",
    "\n",
    "# Test association between app category and productivity level\n",
    "app_productivity_table = pd.crosstab(data['App Category'], data['Productivity Level'])\n",
    "\n",
    "# Perform Chi-Square Test\n",
    "chi2, p_value, dof, expected = stats.chi2_contingency(app_productivity_table)\n",
    "\n",
    "# Print results\n",
    "print(\"Chi-Square Statistic:\", round(chi2, 3))\n",
    "print(\"P-value:\", round(p_value, 3))\n",
    "print(\"Degrees of Freedom:\", dof)\n",
    "print(\"Expected Frequencies:\\n\", expected)\n",
    "\n",
    "if p_value < 0.05:\n",
    "    print(\"Reject the null hypothesis: There is a significant association between app category and productivity level.\")\n",
    "else:\n",
    "    print(\"Fail to reject the null hypothesis: No significant association between app category and productivity level.\")\n",
    "\n",
    "# Proportions for additional insights\n",
    "app_productivity_proportions = app_productivity_table.div(app_productivity_table.sum(axis=1), axis=0)\n",
    "#print(\"Proportional distribution of productivity levels across app categories:\\n\", app_productivity_proportions)\n"
   ]
  },
  {
   "cell_type": "code",
   "execution_count": 14,
   "id": "f902ffd1-6e30-4a8c-b4ce-20d3a9b9065f",
   "metadata": {},
   "outputs": [
    {
     "name": "stdout",
     "output_type": "stream",
     "text": [
      "Chi-Square Statistic: 10.114\n",
      "P-value: 0.341\n",
      "Degrees of Freedom: 9\n",
      "Expected Frequencies:\n",
      " [[16.32  17.92  21.44   8.32 ]\n",
      " [13.515 14.84  17.755  6.89 ]\n",
      " [ 8.925  9.8   11.725  4.55 ]\n",
      " [12.24  13.44  16.08   6.24 ]]\n",
      "Fail to reject the null hypothesis: No significant association between task type and productivity level.\n"
     ]
    }
   ],
   "source": [
    "import scipy.stats as stats\n",
    "import numpy as np\n",
    "import pandas as pd\n",
    "\n",
    "data['Task Type'] = data['Does your attention span vary based on the type of task?'].str.strip()\n",
    "data['Attention Span'] = data['How long can you generally stay focused on a single screen-based task without distractions?'].str.strip()\n",
    "\n",
    "\n",
    "# Test association between app category and productivity level\n",
    "task_attention_table = pd.crosstab(data['Attention Span'], data['Task Type'])\n",
    "\n",
    "# Perform Chi-Square Test\n",
    "chi2, p_value, dof, expected = stats.chi2_contingency(task_attention_table)\n",
    "\n",
    "# Print results\n",
    "print(\"Chi-Square Statistic:\", round(chi2, 3))\n",
    "print(\"P-value:\", round(p_value, 3))\n",
    "print(\"Degrees of Freedom:\", dof)\n",
    "print(\"Expected Frequencies:\\n\", expected)\n",
    "\n",
    "if p_value < 0.05:\n",
    "    print(\"Reject the null hypothesis: There is a significant association between task type and productivity level.\")\n",
    "else:\n",
    "    print(\"Fail to reject the null hypothesis: No significant association between task type and productivity level.\")"
   ]
  },
  {
   "cell_type": "code",
   "execution_count": 15,
   "id": "af07d539-e975-4afe-af44-7209985accfe",
   "metadata": {},
   "outputs": [
    {
     "name": "stdout",
     "output_type": "stream",
     "text": [
      "Chi-Square Statistic: 12.582\n",
      "P-value: 0.05016647948543116\n",
      "Degrees of Freedom: 6\n",
      "Expected Frequencies:\n",
      " [[14.025 15.4   18.425  7.15 ]\n",
      " [27.285 29.96  35.845 13.91 ]\n",
      " [ 9.69  10.64  12.73   4.94 ]]\n",
      "Fail to reject the null hypothesis: No significant association between task type and productivity level.\n"
     ]
    }
   ],
   "source": [
    "import scipy.stats as stats\n",
    "import numpy as np\n",
    "import pandas as pd\n",
    "\n",
    "data['Task Type'] = data['Does your attention span vary based on the type of task?'].str.strip()\n",
    "data['Productivity Level'] = data['After spending a long time in front of screens to complete a certain task, how do you generally feel about your productivity?'].str.strip()\n",
    "\n",
    "\n",
    "# Test association between app category and productivity level\n",
    "task_productivity_table = pd.crosstab(data['Productivity Level'], data['Task Type'])\n",
    "\n",
    "# Perform Chi-Square Test\n",
    "chi2, p_value, dof, expected = stats.chi2_contingency(task_productivity_table)\n",
    "\n",
    "# Print results\n",
    "print(\"Chi-Square Statistic:\", round(chi2, 3))\n",
    "print(\"P-value:\", p_value)\n",
    "print(\"Degrees of Freedom:\", dof)\n",
    "print(\"Expected Frequencies:\\n\", expected)\n",
    "\n",
    "if p_value < 0.05:\n",
    "    print(\"Reject the null hypothesis: There is a significant association between task type and productivity level.\")\n",
    "else:\n",
    "    print(\"Fail to reject the null hypothesis: No significant association between task type and productivity level.\")"
   ]
  },
  {
   "cell_type": "code",
   "execution_count": 35,
   "id": "3ed0690e-259e-4a68-93ab-15f65c261e78",
   "metadata": {},
   "outputs": [
    {
     "name": "stdout",
     "output_type": "stream",
     "text": [
      "Device Type\n",
      "Smartphone    126\n",
      "Laptop/PC      72\n",
      "Television      1\n",
      "Tablet          1\n",
      "Name: count, dtype: int64\n",
      "Device Type                                         Laptop/PC  Smartphone  \\\n",
      "Productivity Level                                                          \n",
      "Extremely productive, i efficiently complete my...         26          28   \n",
      "Moderately productive                                      40          66   \n",
      "Unproductive, i might not have completed the ta...          6          32   \n",
      "\n",
      "Device Type                                         Tablet  Television  \n",
      "Productivity Level                                                      \n",
      "Extremely productive, i efficiently complete my...       1           0  \n",
      "Moderately productive                                    0           1  \n",
      "Unproductive, i might not have completed the ta...       0           0  \n",
      "Chi-Square Statistic: 13.835\n",
      "P-value: 0.032\n",
      "Degrees of Freedom: 6\n",
      "Expected Frequencies:\n",
      " [[19.8   34.65   0.275  0.275]\n",
      " [38.52  67.41   0.535  0.535]\n",
      " [13.68  23.94   0.19   0.19 ]]\n",
      "Reject the null hypothesis: There is a significant association between device type and productivity level.\n"
     ]
    }
   ],
   "source": [
    "import scipy.stats as stats\n",
    "import numpy as np\n",
    "import pandas as pd\n",
    "\n",
    "data['Device Type'] = data['Which device do you use most frequently?'].str.strip()\n",
    "data['Productivity Level'] = data['After spending a long time in front of screens to complete a certain task, how do you generally feel about your productivity?'].str.strip()\n",
    "\n",
    "print(data['Device Type'].value_counts())\n",
    "# Test association between app category and productivity level\n",
    "device_productivity_table = pd.crosstab(data['Productivity Level'], data['Device Type'])\n",
    "print(device_productivity_table)\n",
    "# Perform Chi-Square Test\n",
    "chi2, p_value, dof, expected = stats.chi2_contingency(device_productivity_table)\n",
    "\n",
    "# Print results\n",
    "print(\"Chi-Square Statistic:\", round(chi2, 3))\n",
    "print(\"P-value:\", round(p_value, 3))\n",
    "print(\"Degrees of Freedom:\", dof)\n",
    "print(\"Expected Frequencies:\\n\", expected)\n",
    "\n",
    "if p_value < 0.05:\n",
    "    print(\"Reject the null hypothesis: There is a significant association between device type and productivity level.\")\n",
    "else:\n",
    "    print(\"Fail to reject the null hypothesis: No significant association between device type and productivity level.\")"
   ]
  },
  {
   "cell_type": "code",
   "execution_count": 17,
   "id": "724fad30-9b62-4af6-b682-11d9b2327baf",
   "metadata": {},
   "outputs": [
    {
     "name": "stdout",
     "output_type": "stream",
     "text": [
      "Chi-Square Statistic: 21.303\n",
      "P-value: 0.011\n",
      "Degrees of Freedom: 9\n",
      "Expected Frequencies:\n",
      " [[23.04  40.32   0.32   0.32 ]\n",
      " [19.08  33.39   0.265  0.265]\n",
      " [12.6   22.05   0.175  0.175]\n",
      " [17.28  30.24   0.24   0.24 ]]\n",
      "Reject the null hypothesis: There is a significant association between device type and productivity level.\n"
     ]
    }
   ],
   "source": [
    "import scipy.stats as stats\n",
    "import numpy as np\n",
    "import pandas as pd\n",
    "\n",
    "data['Device Type'] = data['Which device do you use most frequently?'].str.strip()\n",
    "data['Attention Span'] = data['How long can you generally stay focused on a single screen-based task without distractions?'].str.strip()\n",
    "\n",
    "\n",
    "# Test association between app category and productivity level\n",
    "device_attention_table = pd.crosstab(data['Attention Span'], data['Device Type'])\n",
    "\n",
    "# Perform Chi-Square Test\n",
    "chi2, p_value, dof, expected = stats.chi2_contingency(device_attention_table)\n",
    "\n",
    "# Print results\n",
    "print(\"Chi-Square Statistic:\", round(chi2, 3))\n",
    "print(\"P-value:\", round(p_value, 3))\n",
    "print(\"Degrees of Freedom:\", dof)\n",
    "print(\"Expected Frequencies:\\n\", expected)\n",
    "\n",
    "if p_value < 0.05:\n",
    "    print(\"Reject the null hypothesis: There is a significant association between device type and productivity level.\")\n",
    "else:\n",
    "    print(\"Fail to reject the null hypothesis: No significant association between device type and productivity level.\")"
   ]
  },
  {
   "cell_type": "code",
   "execution_count": 18,
   "id": "8fc1d438-7037-4b2b-8088-bd2054bc217e",
   "metadata": {},
   "outputs": [
    {
     "name": "stdout",
     "output_type": "stream",
     "text": [
      "Chi-Square Statistic: 24.099\n",
      "P-value: 0.000500882029798363\n",
      "Degrees of Freedom: 6\n",
      "Expected Frequencies:\n",
      " [[13.75  26.125 11.825  3.3  ]\n",
      " [26.75  50.825 23.005  6.42 ]\n",
      " [ 9.5   18.05   8.17   2.28 ]]\n",
      "Reject the null hypothesis: There is a significant association between usage time and productivity level.\n"
     ]
    }
   ],
   "source": [
    "import scipy.stats as stats\n",
    "import numpy as np\n",
    "import pandas as pd\n",
    "\n",
    "data['Usage Time'] = data['During which part of the day do you spend most of your screen time?'].str.strip()\n",
    "data['Productivity Level'] = data['After spending a long time in front of screens to complete a certain task, how do you generally feel about your productivity?'].str.strip()\n",
    "\n",
    "\n",
    "# Test association between app category and productivity level\n",
    "usagetime_productivity_table = pd.crosstab(data['Productivity Level'], data['Usage Time'])\n",
    "\n",
    "# Perform Chi-Square Test\n",
    "chi2, p_value, dof, expected = stats.chi2_contingency(usagetime_productivity_table)\n",
    "\n",
    "# Print results\n",
    "print(\"Chi-Square Statistic:\", round(chi2, 3))\n",
    "print(\"P-value:\", p_value)\n",
    "print(\"Degrees of Freedom:\", dof)\n",
    "print(\"Expected Frequencies:\\n\", expected)\n",
    "\n",
    "if p_value < 0.05:\n",
    "    print(\"Reject the null hypothesis: There is a significant association between usage time and productivity level.\")\n",
    "else:\n",
    "    print(\"Fail to reject the null hypothesis: No significant association between usage time and productivity level.\")"
   ]
  },
  {
   "cell_type": "code",
   "execution_count": 19,
   "id": "487ef77a-157f-4b98-8a13-7f5a46801cc6",
   "metadata": {},
   "outputs": [
    {
     "name": "stdout",
     "output_type": "stream",
     "text": [
      "24\n",
      "31\n",
      "Z-Statistic: -3.2952121683964153, P-Value: 0.0009834739571675973\n"
     ]
    }
   ],
   "source": [
    "import pandas as pd\n",
    "from statsmodels.stats.proportion import proportions_ztest\n",
    "\n",
    "occupation_column = \"What is your primary occupation ?\"\n",
    "productivity_column = \"After spending a long time in front of screens to complete a certain task, how do you generally feel about your productivity?\"\n",
    "\n",
    "# Define the success criterion for high productivity\n",
    "productivity_success_criterion = \"Extremely productive, i efficiently complete my tasks\"\n",
    "\n",
    "# Filter data for students and professionals\n",
    "students = data[data[occupation_column] == \"Student\"]\n",
    "professionals = data[data[occupation_column] == \"Professional\"]\n",
    "\n",
    "# Count successes and total observations for both groups based on productivity levels\n",
    "student_productivity_successes = (students[productivity_column] == productivity_success_criterion).sum()\n",
    "print(student_productivity_successes)\n",
    "student_productivity_total = students[productivity_column].notna().sum()\n",
    "professional_productivity_successes = (professionals[productivity_column] == productivity_success_criterion).sum()\n",
    "print(professional_productivity_successes)\n",
    "professional_productivity_total = professionals[productivity_column].notna().sum()\n",
    "\n",
    "# Perform the z-test for proportions\n",
    "productivity_successes = [student_productivity_successes, professional_productivity_successes]\n",
    "productivity_totals = [student_productivity_total, professional_productivity_total]\n",
    "z_stat_productivity, p_value_productivity = proportions_ztest(productivity_successes, productivity_totals)\n",
    "\n",
    "print(f\"Z-Statistic: {z_stat_productivity}, P-Value: {p_value_productivity}\")"
   ]
  },
  {
   "cell_type": "code",
   "execution_count": 20,
   "id": "7894399a-08e1-4b6c-90b5-d77ebe0f9937",
   "metadata": {},
   "outputs": [
    {
     "name": "stdout",
     "output_type": "stream",
     "text": [
      "Spearman Correlation: -0.02754405991626965, P-Value: 0.698635020745048\n",
      "Kendall Correlation: -0.02348609416652709, P-Value: 0.698686102045028\n"
     ]
    }
   ],
   "source": [
    "from scipy.stats import spearmanr, kendalltau\n",
    "from sklearn.preprocessing import LabelEncoder\n",
    "\n",
    "# Define relevant columns\n",
    "screentime_column = \"How many hours in a day, on average, do you spend in front of screens?\"\n",
    "productivity_column = \"After spending a long time in front of screens to complete a certain task, how do you generally feel about your productivity?\"\n",
    "\n",
    "# Encode categorical data into ranks\n",
    "label_encoder = LabelEncoder()\n",
    "screentime_ranks = label_encoder.fit_transform(data[screentime_column])\n",
    "productivity_ranks = label_encoder.fit_transform(data[productivity_column])\n",
    "\n",
    "# Calculate Spearman and Kendall rank correlations\n",
    "spearman_corr, spearman_p = spearmanr(screentime_ranks, productivity_ranks)\n",
    "kendall_corr, kendall_p = kendalltau(screentime_ranks, productivity_ranks)\n",
    "\n",
    "print(f\"Spearman Correlation: {spearman_corr}, P-Value: {spearman_p}\")\n",
    "print(f\"Kendall Correlation: {kendall_corr}, P-Value: {kendall_p}\")\n"
   ]
  },
  {
   "cell_type": "code",
   "execution_count": 21,
   "id": "895d0235-7b30-4ee3-a9ad-7a92a859e3f3",
   "metadata": {},
   "outputs": [
    {
     "name": "stdout",
     "output_type": "stream",
     "text": [
      "H-Statistic: 7.470571064945928 | P-value: 0.02386635547625707\n"
     ]
    }
   ],
   "source": [
    "# Preprocessing data\n",
    "data['App Category'] = data['Do you use tools/apps to monitor or manage your screen time?'].str.strip()\n",
    "data['Productivity Level'] = data['How many hours in a day, on average, do you spend in front of screens?'].str.strip()\n",
    "\n",
    "# Convert to numerical ranks\n",
    "data['App Category Rank'] = pd.factorize(data['App Category'])[0]\n",
    "data['Productivity Level Rank'] = pd.factorize(data['Productivity Level'])[0]\n",
    "\n",
    "# Grouping data\n",
    "app_groups = [data['Productivity Level Rank'][data['App Category Rank'] == level] \n",
    "              for level in np.unique(data['App Category Rank'])]\n",
    "\n",
    "# Kruskal-Wallis Test\n",
    "h_stat, p_value = stats.kruskal(*app_groups)\n",
    "print(\"H-Statistic:\", h_stat, \"| P-value:\", p_value)\n"
   ]
  },
  {
   "cell_type": "code",
   "execution_count": 22,
   "id": "b9d53ab2-fd93-4fba-952f-eb0189e259d4",
   "metadata": {},
   "outputs": [
    {
     "name": "stdout",
     "output_type": "stream",
     "text": [
      "H-Statistic: 9.063849858990418 | P-value: 0.0026071247164283044\n"
     ]
    }
   ],
   "source": [
    "# Preprocessing data\n",
    "data['App Category'] = data['Which activity do you dedicate most of your screen time to?  '].str.strip()\n",
    "data['Productivity Level'] = data['How many hours in a day, on average, do you spend in front of screens?'].str.strip()\n",
    "\n",
    "# Convert to numerical ranks\n",
    "data['App Category Rank'] = pd.factorize(data['App Category'])[0]\n",
    "data['Productivity Level Rank'] = pd.factorize(data['Productivity Level'])[0]\n",
    "\n",
    "# Grouping data\n",
    "app_groups = [data['Productivity Level Rank'][data['App Category Rank'] == level] \n",
    "              for level in np.unique(data['App Category Rank'])]\n",
    "\n",
    "# Kruskal-Wallis Test\n",
    "h_stat, p_value = stats.kruskal(*app_groups)\n",
    "print(\"H-Statistic:\", h_stat, \"| P-value:\", p_value)\n"
   ]
  },
  {
   "cell_type": "code",
   "execution_count": 23,
   "id": "85a040c5-6b1a-48ac-bf57-e5b5eca8a188",
   "metadata": {},
   "outputs": [
    {
     "name": "stdout",
     "output_type": "stream",
     "text": [
      "Z-statistic: -1.5191624360536633\n",
      "P-value: 0.12872161400456728\n",
      "Fail to reject the null hypothesis: Data is random.\n"
     ]
    }
   ],
   "source": [
    "from scipy.stats import norm\n",
    "\n",
    "def runs_test_non_numeric(data, positive_group):\n",
    "    \"\"\"\n",
    "    Perform a runs test for randomness on non-numeric data.\n",
    "\n",
    "    Parameters:\n",
    "    data (list): Sequence of categorical data.\n",
    "    positive_group (list): Values to be considered as \"+\" (e.g., [\"High\"]).\n",
    "\n",
    "    Returns:\n",
    "    z (float): Z-statistic for the runs test.\n",
    "    p_value (float): Two-tailed p-value.\n",
    "    \"\"\"\n",
    "    # Convert data to \"+\" and \"-\"\n",
    "    signs = ['+' if x in positive_group else '-' for x in data]\n",
    "\n",
    "    # Count the number of runs\n",
    "    runs = 1  # Start with 1 for the first sign\n",
    "    for i in range(1, len(signs)):\n",
    "        if signs[i] != signs[i - 1]:\n",
    "            runs += 1\n",
    "\n",
    "    # Number of \"+\" and \"-\"\n",
    "    n1 = signs.count('+')\n",
    "    n2 = signs.count('-')\n",
    "\n",
    "    # Check for valid input\n",
    "    if n1 == 0 or n2 == 0:\n",
    "        raise ValueError(\"Data must contain at least one '+' and one '-' for the test.\")\n",
    "\n",
    "    # Calculate expected runs and standard deviation\n",
    "    expected_runs = (2 * n1 * n2) / (n1 + n2) + 1\n",
    "    std_dev = ((2 * n1 * n2 * (2 * n1 * n2 - n1 - n2)) /\n",
    "               ((n1 + n2) ** 2 * (n1 + n2 - 1))) ** 0.5\n",
    "\n",
    "    # Calculate Z-statistic\n",
    "    z = (runs - expected_runs) / std_dev\n",
    "\n",
    "    # Calculate two-tailed p-value\n",
    "    p_value = 2 * (1 - norm.cdf(abs(z)))\n",
    "\n",
    "    return z, p_value\n",
    "\n",
    "# Example data\n",
    "activity = data['Which activity do you dedicate most of your screen time to?  ']\n",
    "positive_group = [\"Entertainment (gaming, streaming, social media, etc.)\"]  # Define \"High\" as the \"+\" group\n",
    "\n",
    "# Runs test\n",
    "try:\n",
    "    z, p_value = runs_test_non_numeric(activity, positive_group)\n",
    "    print(f\"Z-statistic: {z}\")\n",
    "    print(f\"P-value: {p_value}\")\n",
    "    \n",
    "    if p_value > 0.05:\n",
    "        print(\"Fail to reject the null hypothesis: Data is random.\")\n",
    "    else:\n",
    "        print(\"Reject the null hypothesis: Data is not random.\")\n",
    "except ValueError as e:\n",
    "    print(e)\n"
   ]
  },
  {
   "cell_type": "code",
   "execution_count": 24,
   "id": "0ac57ccd-87a9-46e2-b7b7-3c20b9ca02d8",
   "metadata": {},
   "outputs": [
    {
     "data": {
      "text/plain": [
       "array(['Yes, but i did not find them of any help',\n",
       "       'No, i do not use them', 'Yes, they are extremely helpful'],\n",
       "      dtype=object)"
      ]
     },
     "execution_count": 24,
     "metadata": {},
     "output_type": "execute_result"
    }
   ],
   "source": [
    "data['Do you use tools/apps to monitor or manage your screen time?'].unique()"
   ]
  },
  {
   "cell_type": "code",
   "execution_count": 25,
   "id": "9bc8bd8b-de5e-4add-90eb-285591416465",
   "metadata": {},
   "outputs": [
    {
     "data": {
      "text/html": [
       "<div>\n",
       "<style scoped>\n",
       "    .dataframe tbody tr th:only-of-type {\n",
       "        vertical-align: middle;\n",
       "    }\n",
       "\n",
       "    .dataframe tbody tr th {\n",
       "        vertical-align: top;\n",
       "    }\n",
       "\n",
       "    .dataframe thead th {\n",
       "        text-align: right;\n",
       "    }\n",
       "</style>\n",
       "<table border=\"1\" class=\"dataframe\">\n",
       "  <thead>\n",
       "    <tr style=\"text-align: right;\">\n",
       "      <th>How many hours in a day, on average, do you spend in front of screens?</th>\n",
       "      <th>2–4</th>\n",
       "      <th>4–6</th>\n",
       "      <th>6–8</th>\n",
       "      <th>8-10</th>\n",
       "      <th>Less than 2</th>\n",
       "      <th>More than 10</th>\n",
       "    </tr>\n",
       "    <tr>\n",
       "      <th>Do you use tools/apps to monitor or manage your screen time?</th>\n",
       "      <th></th>\n",
       "      <th></th>\n",
       "      <th></th>\n",
       "      <th></th>\n",
       "      <th></th>\n",
       "      <th></th>\n",
       "    </tr>\n",
       "  </thead>\n",
       "  <tbody>\n",
       "    <tr>\n",
       "      <th>No, i do not use them</th>\n",
       "      <td>10</td>\n",
       "      <td>31</td>\n",
       "      <td>28</td>\n",
       "      <td>33</td>\n",
       "      <td>1</td>\n",
       "      <td>20</td>\n",
       "    </tr>\n",
       "    <tr>\n",
       "      <th>Yes, but i did not find them of any help</th>\n",
       "      <td>5</td>\n",
       "      <td>7</td>\n",
       "      <td>8</td>\n",
       "      <td>4</td>\n",
       "      <td>0</td>\n",
       "      <td>9</td>\n",
       "    </tr>\n",
       "    <tr>\n",
       "      <th>Yes, they are extremely helpful</th>\n",
       "      <td>7</td>\n",
       "      <td>13</td>\n",
       "      <td>15</td>\n",
       "      <td>7</td>\n",
       "      <td>0</td>\n",
       "      <td>2</td>\n",
       "    </tr>\n",
       "  </tbody>\n",
       "</table>\n",
       "</div>"
      ],
      "text/plain": [
       "How many hours in a day, on average, do you spend in front of screens?  2–4  \\\n",
       "Do you use tools/apps to monitor or manage your...                            \n",
       "No, i do not use them                                                    10   \n",
       "Yes, but i did not find them of any help                                  5   \n",
       "Yes, they are extremely helpful                                           7   \n",
       "\n",
       "How many hours in a day, on average, do you spend in front of screens?  4–6  \\\n",
       "Do you use tools/apps to monitor or manage your...                            \n",
       "No, i do not use them                                                    31   \n",
       "Yes, but i did not find them of any help                                  7   \n",
       "Yes, they are extremely helpful                                          13   \n",
       "\n",
       "How many hours in a day, on average, do you spend in front of screens?  6–8  \\\n",
       "Do you use tools/apps to monitor or manage your...                            \n",
       "No, i do not use them                                                    28   \n",
       "Yes, but i did not find them of any help                                  8   \n",
       "Yes, they are extremely helpful                                          15   \n",
       "\n",
       "How many hours in a day, on average, do you spend in front of screens?  8-10  \\\n",
       "Do you use tools/apps to monitor or manage your...                             \n",
       "No, i do not use them                                                     33   \n",
       "Yes, but i did not find them of any help                                   4   \n",
       "Yes, they are extremely helpful                                            7   \n",
       "\n",
       "How many hours in a day, on average, do you spend in front of screens?  Less than 2  \\\n",
       "Do you use tools/apps to monitor or manage your...                                    \n",
       "No, i do not use them                                                             1   \n",
       "Yes, but i did not find them of any help                                          0   \n",
       "Yes, they are extremely helpful                                                   0   \n",
       "\n",
       "How many hours in a day, on average, do you spend in front of screens?  More than 10  \n",
       "Do you use tools/apps to monitor or manage your...                                    \n",
       "No, i do not use them                                                             20  \n",
       "Yes, but i did not find them of any help                                           9  \n",
       "Yes, they are extremely helpful                                                    2  "
      ]
     },
     "execution_count": 25,
     "metadata": {},
     "output_type": "execute_result"
    }
   ],
   "source": [
    "pd.crosstab(data['Do you use tools/apps to monitor or manage your screen time?'], data['How many hours in a day, on average, do you spend in front of screens?'])"
   ]
  },
  {
   "cell_type": "code",
   "execution_count": 26,
   "id": "dadc6f57-03b1-4172-9e16-7fa2465d0072",
   "metadata": {},
   "outputs": [
    {
     "name": "stdout",
     "output_type": "stream",
     "text": [
      "Screen Time Category                                8 hours or less  \\\n",
      "Do you use tools/apps to monitor or manage your...                    \n",
      "No, i do not use them                                            70   \n",
      "Yes, but i did not find them of any help                         20   \n",
      "Yes, they are extremely helpful                                  35   \n",
      "\n",
      "Screen Time Category                                More than 8 hours  \n",
      "Do you use tools/apps to monitor or manage your...                     \n",
      "No, i do not use them                                              53  \n",
      "Yes, but i did not find them of any help                           13  \n",
      "Yes, they are extremely helpful                                     9  \n",
      "Chi-Square Statistic: 7.145\n",
      "P-value: 0.028\n",
      "Degrees of Freedom: 2\n",
      "Expected Frequencies:\n",
      " [[76.875 46.125]\n",
      " [20.625 12.375]\n",
      " [27.5   16.5  ]]\n",
      "Reject the null hypothesis: There is a significant association between age group and screen time category.\n",
      "Proportional distribution of screen time across age groups:\n",
      " Screen Time Category                                8 hours or less  \\\n",
      "Do you use tools/apps to monitor or manage your...                    \n",
      "No, i do not use them                                      0.569106   \n",
      "Yes, but i did not find them of any help                   0.606061   \n",
      "Yes, they are extremely helpful                            0.795455   \n",
      "\n",
      "Screen Time Category                                More than 8 hours  \n",
      "Do you use tools/apps to monitor or manage your...                     \n",
      "No, i do not use them                                        0.430894  \n",
      "Yes, but i did not find them of any help                     0.393939  \n",
      "Yes, they are extremely helpful                              0.204545  \n"
     ]
    }
   ],
   "source": [
    "import scipy.stats as stats\n",
    "import numpy as np\n",
    "\n",
    "# Preprocessing gender and screen time data\n",
    "#data['What is your gender?'] = data[' What is your gender? '].str.strip()\n",
    "data['Hours on screens'] = data['How many hours in a day, on average, do you spend in front of screens?'].str.strip()\n",
    "\n",
    "# Define criteria for \"more than 8 hours\"\n",
    "def classify_screen_time(hours):\n",
    "    if '8-10' in hours or 'More than 10' in hours:\n",
    "        return 'More than 8 hours'\n",
    "    else:\n",
    "        return '8 hours or less'\n",
    "\n",
    "data['Screen Time Category'] = data['Hours on screens'].apply(classify_screen_time)\n",
    "\n",
    "# Chi-Square test between age group and screen time\n",
    "age_screen_time_table = pd.crosstab(data['Do you use tools/apps to monitor or manage your screen time?'], data['Screen Time Category'])\n",
    "print(age_screen_time_table)\n",
    "# Perform Chi-Square Test\n",
    "chi2, p_value, dof, expected = stats.chi2_contingency(age_screen_time_table)\n",
    "\n",
    "# Print results\n",
    "print(\"Chi-Square Statistic:\", round(chi2, 3))\n",
    "print(\"P-value:\", round(p_value, 3))\n",
    "print(\"Degrees of Freedom:\", dof)\n",
    "print(\"Expected Frequencies:\\n\", expected)\n",
    "\n",
    "if p_value < 0.05:\n",
    "    print(\"Reject the null hypothesis: There is a significant association between age group and screen time category.\")\n",
    "else:\n",
    "    print(\"Fail to reject the null hypothesis: No significant association between age group and screen time category.\")\n",
    "\n",
    "# Proportions for additional insights\n",
    "age_group_proportions = age_screen_time_table.div(age_screen_time_table.sum(axis=1), axis=0)\n",
    "print(\"Proportional distribution of screen time across age groups:\\n\", age_group_proportions)\n"
   ]
  },
  {
   "cell_type": "code",
   "execution_count": 27,
   "id": "99fefc79-13a3-434a-bbda-7aee084e2e25",
   "metadata": {},
   "outputs": [
    {
     "data": {
      "text/plain": [
       "0      Yes, but i did not find them of any help\n",
       "1                         No, i do not use them\n",
       "2                         No, i do not use them\n",
       "3                         No, i do not use them\n",
       "4                         No, i do not use them\n",
       "                         ...                   \n",
       "195                       No, i do not use them\n",
       "196    Yes, but i did not find them of any help\n",
       "197    Yes, but i did not find them of any help\n",
       "198                       No, i do not use them\n",
       "199             Yes, they are extremely helpful\n",
       "Name: Do you use tools/apps to monitor or manage your screen time?, Length: 200, dtype: object"
      ]
     },
     "execution_count": 27,
     "metadata": {},
     "output_type": "execute_result"
    }
   ],
   "source": [
    "tools = data.loc[:,'Do you use tools/apps to monitor or manage your screen time?']\n",
    "\n",
    "tools"
   ]
  },
  {
   "cell_type": "code",
   "execution_count": 28,
   "id": "a4cbe8f5-9dc3-42a5-8eb5-11db1fe863a1",
   "metadata": {},
   "outputs": [
    {
     "name": "stdout",
     "output_type": "stream",
     "text": [
      "att                                            10–30 minutes  30–60 minutes  \\\n",
      "notif                                                                         \n",
      "Check them briefly and resume my work                     23             22   \n",
      "Ignore them until my task is completed                    10             10   \n",
      "Spend time interacting with the notifications              8              1   \n",
      "Turn off notifications altogether                         23             20   \n",
      "\n",
      "att                                            Less than 10 minutes  \\\n",
      "notif                                                                 \n",
      "Check them briefly and resume my work                             9   \n",
      "Ignore them until my task is completed                            7   \n",
      "Spend time interacting with the notifications                     6   \n",
      "Turn off notifications altogether                                13   \n",
      "\n",
      "att                                            More than 1 hour  \n",
      "notif                                                            \n",
      "Check them briefly and resume my work                        18  \n",
      "Ignore them until my task is completed                       17  \n",
      "Spend time interacting with the notifications                 3  \n",
      "Turn off notifications altogether                             9  \n",
      "Chi-Square Statistic: 17.5\n",
      "P-value: 0.041436338833194065\n",
      "Degrees of Freedom: 9\n",
      "Expected Frequencies:\n",
      " [[23.15577889 19.1758794  12.66331658 17.00502513]\n",
      " [14.15075377 11.71859296  7.73869347 10.3919598 ]\n",
      " [ 5.78894472  4.79396985  3.16582915  4.25125628]\n",
      " [20.90452261 17.31155779 11.4321608  15.35175879]]\n",
      "Reject the null hypothesis: The distribution of primary screen activities is dependent on age group.\n"
     ]
    }
   ],
   "source": [
    "#import pandas as pd\n",
    "import scipy.stats as stats\n",
    "\n",
    "#dat = data[data['What kind of environment helps you stay productive during screen use?']!='I can work in any environment']\n",
    "# Preprocessing data: Strip unnecessary spaces\n",
    "data['environ'] = data['What kind of environment helps you stay productive during screen use?'].str.strip()\n",
    "data['att'] = data['How long can you generally stay focused on a single screen-based task without distractions?']\n",
    "data['prod'] = data['After spending a long time in front of screens to complete a certain task, how do you generally feel about your productivity?'].str.strip()\n",
    "data['notif'] = data['While working on a screen-based task, how do you handle frequent notifications which distract you?']\n",
    "\n",
    "# Create contingency table\n",
    "age_activity_table = pd.crosstab(data['notif'], data['att'])\n",
    "age_activity_table.to_csv('cont')\n",
    "print(age_activity_table)\n",
    "# Perform Chi-Square Test\n",
    "chi2, p_value, dof, expected = stats.chi2_contingency(age_activity_table)\n",
    "\n",
    "# Print results\n",
    "print(\"Chi-Square Statistic:\", round(chi2, 3))\n",
    "print(\"P-value:\", p_value)\n",
    "print(\"Degrees of Freedom:\", dof)\n",
    "print(\"Expected Frequencies:\\n\", expected)\n",
    "\n",
    "if p_value < 0.05:\n",
    "    print(\"Reject the null hypothesis: The distribution of primary screen activities is dependent on age group.\")\n",
    "else:\n",
    "    print(\"Fail to reject the null hypothesis: The distribution of primary screen activities is independent of age group.\")\n"
   ]
  },
  {
   "cell_type": "code",
   "execution_count": 29,
   "id": "75ff2015-7261-49a4-a100-34f5ff5d37e0",
   "metadata": {},
   "outputs": [
    {
     "name": "stdout",
     "output_type": "stream",
     "text": [
      "att                                            10–30 minutes  30–60 minutes  \\\n",
      "notif                                                                         \n",
      "Check them briefly and resume my work                     23             22   \n",
      "Ignore them until my task is completed                    10             10   \n",
      "Spend time interacting with the notifications              8              1   \n",
      "Turn off notifications altogether                         23             20   \n",
      "\n",
      "att                                            Less than 10 minutes  \\\n",
      "notif                                                                 \n",
      "Check them briefly and resume my work                             9   \n",
      "Ignore them until my task is completed                            7   \n",
      "Spend time interacting with the notifications                     6   \n",
      "Turn off notifications altogether                                13   \n",
      "\n",
      "att                                            More than 1 hour  \n",
      "notif                                                            \n",
      "Check them briefly and resume my work                        18  \n",
      "Ignore them until my task is completed                       17  \n",
      "Spend time interacting with the notifications                 3  \n",
      "Turn off notifications altogether                             9  \n",
      "Chi-Square Statistic: 17.5\n",
      "P-value: 0.041436338833194065\n",
      "Degrees of Freedom: 9\n",
      "Expected Frequencies:\n",
      " [[23.15577889 19.1758794  12.66331658 17.00502513]\n",
      " [14.15075377 11.71859296  7.73869347 10.3919598 ]\n",
      " [ 5.78894472  4.79396985  3.16582915  4.25125628]\n",
      " [20.90452261 17.31155779 11.4321608  15.35175879]]\n",
      "Reject the null hypothesis: The distribution of primary screen activities is dependent on age group.\n"
     ]
    }
   ],
   "source": [
    "#import pandas as pd\n",
    "import scipy.stats as stats\n",
    "\n",
    "#dat = data[data['What kind of environment helps you stay productive during screen use?']!='I can work in any environment']\n",
    "# Preprocessing data: Strip unnecessary spaces\n",
    "data['environ'] = data['What kind of environment helps you stay productive during screen use?'].str.strip()\n",
    "data['att'] = data['How long can you generally stay focused on a single screen-based task without distractions?']\n",
    "data['prod'] = data['After spending a long time in front of screens to complete a certain task, how do you generally feel about your productivity?'].str.strip()\n",
    "data['notif'] = data['While working on a screen-based task, how do you handle frequent notifications which distract you?']\n",
    "\n",
    "# Create contingency table\n",
    "age_activity_table = pd.crosstab(data['notif'], data['att'])\n",
    "age_activity_table.to_csv('cont')\n",
    "print(age_activity_table)\n",
    "# Perform Chi-Square Test\n",
    "chi2, p_value, dof, expected = stats.chi2_contingency(age_activity_table)\n",
    "\n",
    "# Print results\n",
    "print(\"Chi-Square Statistic:\", round(chi2, 3))\n",
    "print(\"P-value:\", p_value)\n",
    "print(\"Degrees of Freedom:\", dof)\n",
    "print(\"Expected Frequencies:\\n\", expected)\n",
    "\n",
    "if p_value < 0.05:\n",
    "    print(\"Reject the null hypothesis: The distribution of primary screen activities is dependent on age group.\")\n",
    "else:\n",
    "    print(\"Fail to reject the null hypothesis: The distribution of primary screen activities is independent of age group.\")\n"
   ]
  },
  {
   "cell_type": "code",
   "execution_count": 30,
   "id": "21900979-5eb2-4483-ae85-de7b75298b4c",
   "metadata": {},
   "outputs": [
    {
     "data": {
      "text/plain": [
       "array(['Take regular breaks',\n",
       "       'None, i prefer to work without any strategies',\n",
       "       'Eliminate all distractions',\n",
       "       'Use some productivity tool (e.g, timers, blockers)', nan],\n",
       "      dtype=object)"
      ]
     },
     "execution_count": 30,
     "metadata": {},
     "output_type": "execute_result"
    }
   ],
   "source": [
    "data['How do you try to stay focused while working on a complex task (e.g, coding)?'].unique()"
   ]
  },
  {
   "cell_type": "code",
   "execution_count": 31,
   "id": "e2fc8b97-6de9-45b6-aa08-87da91078b69",
   "metadata": {},
   "outputs": [
    {
     "name": "stdout",
     "output_type": "stream",
     "text": [
      "att                                            10–30 minutes  30–60 minutes  \\\n",
      "notif                                                                         \n",
      "Check them briefly and resume my work                     23             22   \n",
      "Ignore them until my task is completed                    10             10   \n",
      "Spend time interacting with the notifications              8              1   \n",
      "Turn off notifications altogether                         23             20   \n",
      "\n",
      "att                                            Less than 10 minutes  \\\n",
      "notif                                                                 \n",
      "Check them briefly and resume my work                             9   \n",
      "Ignore them until my task is completed                            7   \n",
      "Spend time interacting with the notifications                     6   \n",
      "Turn off notifications altogether                                13   \n",
      "\n",
      "att                                            More than 1 hour  \n",
      "notif                                                            \n",
      "Check them briefly and resume my work                        18  \n",
      "Ignore them until my task is completed                       17  \n",
      "Spend time interacting with the notifications                 3  \n",
      "Turn off notifications altogether                             9  \n",
      "Chi-Square Statistic: 17.5\n",
      "P-value: 0.041436338833194065\n",
      "Degrees of Freedom: 9\n",
      "Expected Frequencies:\n",
      " [[23.15577889 19.1758794  12.66331658 17.00502513]\n",
      " [14.15075377 11.71859296  7.73869347 10.3919598 ]\n",
      " [ 5.78894472  4.79396985  3.16582915  4.25125628]\n",
      " [20.90452261 17.31155779 11.4321608  15.35175879]]\n",
      "Reject the null hypothesis: The distribution of primary screen activities is dependent on age group.\n"
     ]
    }
   ],
   "source": [
    "#import pandas as pd\n",
    "import scipy.stats as stats\n",
    "\n",
    "#dat = data[data['What kind of environment helps you stay productive during screen use?']!='I can work in any environment']\n",
    "# Preprocessing data: Strip unnecessary spaces\n",
    "data['environ'] = data['What kind of environment helps you stay productive during screen use?'].str.strip()\n",
    "data['att'] = data['How long can you generally stay focused on a single screen-based task without distractions?']\n",
    "data['prod'] = data['After spending a long time in front of screens to complete a certain task, how do you generally feel about your productivity?'].str.strip()\n",
    "data['notif'] = data['While working on a screen-based task, how do you handle frequent notifications which distract you?']\n",
    "data['strat'] = data['How do you try to stay focused while working on a complex task (e.g, coding)?']\n",
    "# Create contingency table\n",
    "age_activity_table = pd.crosstab(data['notif'], data['att'])\n",
    "age_activity_table.to_csv('cont')\n",
    "print(age_activity_table)\n",
    "# Perform Chi-Square Test\n",
    "chi2, p_value, dof, expected = stats.chi2_contingency(age_activity_table)\n",
    "\n",
    "# Print results\n",
    "print(\"Chi-Square Statistic:\", round(chi2, 3))\n",
    "print(\"P-value:\", p_value)\n",
    "print(\"Degrees of Freedom:\", dof)\n",
    "print(\"Expected Frequencies:\\n\", expected)\n",
    "\n",
    "if p_value < 0.05:\n",
    "    print(\"Reject the null hypothesis: The distribution of primary screen activities is dependent on age group.\")\n",
    "else:\n",
    "    print(\"Fail to reject the null hypothesis: The distribution of primary screen activities is independent of age group.\")\n"
   ]
  },
  {
   "cell_type": "code",
   "execution_count": 32,
   "id": "9712afd5-1796-44d2-8395-be82874fb511",
   "metadata": {},
   "outputs": [
    {
     "name": "stdout",
     "output_type": "stream",
     "text": [
      "Chi-Square Statistic: 2.492\n",
      "P-value: 0.477\n",
      "Degrees of Freedom: 3\n",
      "Expected Frequencies:\n",
      " [[40.    33.125 21.875 30.   ]\n",
      " [24.    19.875 13.125 18.   ]]\n",
      "Fail to reject the null hypothesis: No significant association between age group and screen time category.\n"
     ]
    }
   ],
   "source": [
    "import scipy.stats as stats\n",
    "import numpy as np\n",
    "\n",
    "# Preprocessing gender and screen time data\n",
    "#data['What is your gender?'] = data[' What is your gender? '].str.strip()\n",
    "data['Hours on screens'] = data['How many hours in a day, on average, do you spend in front of screens?'].str.strip()\n",
    "\n",
    "# Define criteria for \"more than 8 hours\"\n",
    "def classify_screen_time(hours):\n",
    "    if '8-10' in hours or 'More than 10' in hours:\n",
    "        return 'More than 8 hours'\n",
    "    else:\n",
    "        return '8 hours or less'\n",
    "\n",
    "data['Screen Time Category'] = data['Hours on screens'].apply(classify_screen_time)\n",
    "\n",
    "# Chi-Square test between age group and screen time\n",
    "age_screen_time_table = pd.crosstab(data['Screen Time Category'], data['How long can you generally stay focused on a single screen-based task without distractions?'])\n",
    "\n",
    "# Perform Chi-Square Test\n",
    "chi2, p_value, dof, expected = stats.chi2_contingency(age_screen_time_table)\n",
    "\n",
    "# Print results\n",
    "print(\"Chi-Square Statistic:\", round(chi2, 3))\n",
    "print(\"P-value:\", round(p_value, 3))\n",
    "print(\"Degrees of Freedom:\", dof)\n",
    "print(\"Expected Frequencies:\\n\", expected)\n",
    "\n",
    "if p_value < 0.05:\n",
    "    print(\"Reject the null hypothesis: There is a significant association between age group and screen time category.\")\n",
    "else:\n",
    "    print(\"Fail to reject the null hypothesis: No significant association between age group and screen time category.\")\n",
    "\n",
    "# Proportions for additional insights\n",
    "age_group_proportions = age_screen_time_table.div(age_screen_time_table.sum(axis=1), axis=0)\n",
    "#print(\"Proportional distribution of screen time across age groups:\\n\", age_group_proportions)\n"
   ]
  },
  {
   "cell_type": "code",
   "execution_count": 33,
   "id": "f1bd8079-8f01-4387-b7e8-9bdbe6fd0eb4",
   "metadata": {},
   "outputs": [
    {
     "data": {
      "text/plain": [
       "array(['Moderately productive',\n",
       "       'Extremely productive, i efficiently complete my tasks',\n",
       "       'Unproductive, i might not have completed the task and got carried away'],\n",
       "      dtype=object)"
      ]
     },
     "execution_count": 33,
     "metadata": {},
     "output_type": "execute_result"
    }
   ],
   "source": [
    "data['After spending a long time in front of screens to complete a certain task, how do you generally feel about your productivity?'].unique()"
   ]
  },
  {
   "cell_type": "code",
   "execution_count": 34,
   "id": "64539e46-77a6-4788-9ea3-312de9c297d0",
   "metadata": {},
   "outputs": [
    {
     "ename": "SyntaxError",
     "evalue": "unterminated string literal (detected at line 1) (2197748062.py, line 1)",
     "output_type": "error",
     "traceback": [
      "\u001b[0;36m  Cell \u001b[0;32mIn[34], line 1\u001b[0;36m\u001b[0m\n\u001b[0;31m    data.loc[data['\u001b[0m\n\u001b[0m                  ^\u001b[0m\n\u001b[0;31mSyntaxError\u001b[0m\u001b[0;31m:\u001b[0m unterminated string literal (detected at line 1)\n"
     ]
    }
   ],
   "source": [
    "data.loc[data['"
   ]
  },
  {
   "cell_type": "code",
   "execution_count": 65,
   "id": "7f8c86fa-f3c0-4434-8b94-1ea2b9e4b3a6",
   "metadata": {},
   "outputs": [
    {
     "name": "stdout",
     "output_type": "stream",
     "text": [
      "Reject the null hypothesis: There is a significant difference in high productivity proportions between Day and Night (p = 0.0022)\n"
     ]
    }
   ],
   "source": [
    "import pandas as pd\n",
    "from statsmodels.stats.proportion import proportions_ztest\n",
    "\n",
    "# Sample data (replace this with your actual DataFrame)\n",
    "# Columns: 'During which part of the day do you spend most of your screen time?' and 'After spending a long time in front of screens to complete a certain task, how do you generally feel about your productivity?'\n",
    "\n",
    "# Step 1: Combine 'Morning' and 'Afternoon' into 'Day', and 'Evening' and 'Late night' into 'Night'\n",
    "data['Time of Day'] = data['During which part of the day do you spend most of your screen time?'].replace(\n",
    "    ['Morning (6 AM–12 PM)', 'Afternoon (12 PM–6 PM)'], 'Day')\n",
    "data['Time of Day'] = data['Time of Day'].replace(\n",
    "    ['Evening (6 PM–10 PM)', 'Late night (10 PM–6 AM)'], 'Night')\n",
    "\n",
    "# Step 2: Proportion of high productivity\n",
    "day_high_productivity = data[(data['Time of Day'] == 'Day') & \n",
    "                             (data['After spending a long time in front of screens to complete a certain task, how do you generally feel about your productivity?'] == 'Extremely productive, i efficiently complete my tasks')].shape[0] / \\\n",
    "                        data[data['Time of Day'] == 'Day'].shape[0]\n",
    "\n",
    "night_high_productivity = data[(data['Time of Day'] == 'Night') & \n",
    "                              (data['After spending a long time in front of screens to complete a certain task, how do you generally feel about your productivity?'] == 'Extremely productive, i efficiently complete my tasks')].shape[0] / \\\n",
    "                         data[data['Time of Day'] == 'Night'].shape[0]\n",
    "\n",
    "# Step 3: Perform the proportion Z-test\n",
    "z_stat, p_value = proportions_ztest(\n",
    "    [day_high_productivity * data[data['Time of Day'] == 'Day'].shape[0],\n",
    "     night_high_productivity * data[data['Time of Day'] == 'Night'].shape[0]],\n",
    "    [data[data['Time of Day'] == 'Day'].shape[0], data[data['Time of Day'] == 'Night'].shape[0]]\n",
    ")\n",
    "\n",
    "# Step 4: Interpret the results\n",
    "alpha = 0.05  # Significance level\n",
    "if p_value < alpha:\n",
    "    print(f\"Reject the null hypothesis: There is a significant difference in high productivity proportions between Day and Night (p = {p_value:.4f})\")\n",
    "else:\n",
    "    print(f\"Fail to reject the null hypothesis: No significant difference in high productivity proportions between Day and Night (p = {p_value:.4f})\")\n"
   ]
  },
  {
   "cell_type": "code",
   "execution_count": null,
   "id": "6f43b765-a44f-4a74-aad5-cc3886f41791",
   "metadata": {},
   "outputs": [],
   "source": []
  }
 ],
 "metadata": {
  "kernelspec": {
   "display_name": "Python 3 (ipykernel)",
   "language": "python",
   "name": "python3"
  },
  "language_info": {
   "codemirror_mode": {
    "name": "ipython",
    "version": 3
   },
   "file_extension": ".py",
   "mimetype": "text/x-python",
   "name": "python",
   "nbconvert_exporter": "python",
   "pygments_lexer": "ipython3",
   "version": "3.10.12"
  }
 },
 "nbformat": 4,
 "nbformat_minor": 5
}
